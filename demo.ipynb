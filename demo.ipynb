# demo.ipynb

{
 "cells": [
  {
   "cell_type": "markdown",
   "metadata": {},
   "source": [
    "# VARReg Demo Notebook\n",
    "This notebook demonstrates how to run the VARReg adaptive regularization method on MNIST using a shallow MLP."
   ]
  },
  {
   "cell_type": "code",
   "execution_count": null,
   "metadata": {},
   "outputs": [],
   "source": [
    "import torch\n",
    "import torch.nn as nn\n",
    "import torch.optim as optim\n",
    "import matplotlib.pyplot as plt\n",
    "from dataset_utils import get_dataloader\n",
    "from regularizers import adaptive_regularization"
   ]
  },
  {
   "cell_type": "code",
   "execution_count": null,
   "metadata": {},
   "outputs": [],
   "source": [
    "# Define MLP\n",
    "class MLP(nn.Module):\n",
    "    def __init__(self, input_size=784, hidden_size=256, num_classes=10):\n",
    "        super(MLP, self).__init__()\n",
    "        self.fc1 = nn.Linear(input_size, hidden_size)\n",
    "        self.relu = nn.ReLU()\n",
    "        self.fc2 = nn.Linear(hidden_size, num_classes)\n",
    "        self.activations = []\n",
    "    def forward(self, x):\n",
    "        x = x.view(x.size(0), -1)\n",
    "        x = self.fc1(x); self.activations.append(x.detach()); x = self.relu(x)\n",
    "        x = self.fc2(x)\n",
    "        return x"
   ]
  },
  {
   "cell_type": "code",
   "execution_count": null,
   "metadata": {},
   "outputs": [],
   "source": [
    "# Setup\n",
    "device = torch.device(\"cuda\" if torch.cuda.is_available() else \"cpu\")\n",
    "dataloader = get_dataloader('MNIST')\n",
    "model = MLP().to(device)\n",
    "criterion = nn.CrossEntropyLoss()\n",
    "optimizer = optim.Adam(model.parameters(), lr=0.001)"
   ]
  },
  {
   "cell_type": "code",
   "execution_count": null,
   "metadata": {},
   "outputs": [],
   "source": [
    "# Training loop\n",
    "losses, accuracies = [], []\n",
    "for epoch in range(10):\n",
    "    model.train()\n",
    "    correct, total, running_loss = 0, 0, 0\n",
    "    model.activations = []\n",
    "    for x, y in dataloader:\n",
    "        x, y = x.to(device), y.to(device)\n",
    "        outputs = model(x)\n",
    "        loss = criterion(outputs, y)\n",
    "        loss += adaptive_regularization(model)\n",
    "        optimizer.zero_grad(); loss.backward(); optimizer.step()\n",
    "        _, preds = torch.max(outputs, 1)\n",
    "        correct += (preds == y).sum().item()\n",
    "        total += y.size(0); running_loss += loss.item() * y.size(0)\n",
    "    losses.append(running_loss / total)\n",
    "    accuracies.append(100 * correct / total)"
   ]
  },
  {
   "cell_type": "code",
   "execution_count": null,
   "metadata": {},
   "outputs": [],
   "source": [
    "# Plot results\n",
    "plt.plot(losses, label='Loss')\n",
    "plt.plot(accuracies, label='Accuracy')\n",
    "plt.title('VARReg on MNIST (Shallow MLP)')\n",
    "plt.xlabel('Epoch')\n",
    "plt.legend()\n",
    "plt.grid()\n",
    "plt.show()"
   ]
  }
 ],
 "metadata": {
  "kernelspec": {
   "display_name": "Python 3",
   "language": "python",
   "name": "python3"
  },
  "language_info": {
   "name": "python",
   "version": "3.8"
  }
 },
 "nbformat": 4,
 "nbformat_minor": 5
}
